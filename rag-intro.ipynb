{
 "cells": [
  {
   "cell_type": "code",
   "execution_count": 1,
   "id": "f41bb893-2ea9-4bee-a184-418786e984c6",
   "metadata": {},
   "outputs": [
    {
     "name": "stdout",
     "output_type": "stream",
     "text": [
      "--2025-07-10 21:01:35--  https://raw.githubusercontent.com/alexeygrigorev/minsearch/refs/heads/main/minsearch.py\n",
      "Resolving raw.githubusercontent.com (raw.githubusercontent.com)... 185.199.109.133, 185.199.110.133, 185.199.111.133, ...\n",
      "Connecting to raw.githubusercontent.com (raw.githubusercontent.com)|185.199.109.133|:443... connected.\n",
      "HTTP request sent, awaiting response... 200 OK\n",
      "Length: 4273 (4.2K) [text/plain]\n",
      "Saving to: ‘minsearch.py.5’\n",
      "\n",
      "minsearch.py.5      100%[===================>]   4.17K  --.-KB/s    in 0s      \n",
      "\n",
      "2025-07-10 21:01:35 (11.8 MB/s) - ‘minsearch.py.5’ saved [4273/4273]\n",
      "\n"
     ]
    }
   ],
   "source": [
    "!wget https://raw.githubusercontent.com/alexeygrigorev/minsearch/refs/heads/main/minsearch.py"
   ]
  },
  {
   "cell_type": "code",
   "execution_count": 2,
   "id": "9810d3fb-f75e-4465-8370-4e1d90aa9e5a",
   "metadata": {},
   "outputs": [
    {
     "name": "stderr",
     "output_type": "stream",
     "text": [
      "/workspaces/llm-zoomcamp/minsearch.py:10: UserWarning: Now minsearch is installable via pip: 'pip install minsearch'. Remove the downloaded file and re-install it with pip.\n",
      "  warnings.warn(\n"
     ]
    }
   ],
   "source": [
    "import minsearch"
   ]
  },
  {
   "cell_type": "code",
   "execution_count": 3,
   "id": "6fb2a91b-7ad8-487c-a8de-e98b678783f1",
   "metadata": {},
   "outputs": [],
   "source": [
    "import json"
   ]
  },
  {
   "cell_type": "code",
   "execution_count": 4,
   "id": "688ef3da-0422-4280-b05c-b5a44d4a2f41",
   "metadata": {},
   "outputs": [],
   "source": [
    "with open('documents.json', 'rt') as f_in:\n",
    "    docs_raw = json.load(f_in)"
   ]
  },
  {
   "cell_type": "code",
   "execution_count": 5,
   "id": "93df8280-6c8a-43ab-838a-e7bd3451766f",
   "metadata": {},
   "outputs": [],
   "source": [
    "documents = []\n",
    "\n",
    "for course_dict in docs_raw:\n",
    "    for doc in course_dict['documents']:\n",
    "        doc['course'] = course_dict['course']\n",
    "        documents.append(doc)"
   ]
  },
  {
   "cell_type": "code",
   "execution_count": 6,
   "id": "22ee0752-2d6e-4416-abcb-bedd359ac956",
   "metadata": {},
   "outputs": [
    {
     "data": {
      "text/plain": [
       "{'text': \"The purpose of this document is to capture frequently asked technical questions\\nThe exact day and hour of the course will be 15th Jan 2024 at 17h00. The course will start with the first  “Office Hours'' live.1\\nSubscribe to course public Google Calendar (it works from Desktop only).\\nRegister before the course starts using this link.\\nJoin the course Telegram channel with announcements.\\nDon’t forget to register in DataTalks.Club's Slack and join the channel.\",\n",
       " 'section': 'General course-related questions',\n",
       " 'question': 'Course - When will the course start?',\n",
       " 'course': 'data-engineering-zoomcamp'}"
      ]
     },
     "execution_count": 6,
     "metadata": {},
     "output_type": "execute_result"
    }
   ],
   "source": [
    "documents[0]"
   ]
  },
  {
   "cell_type": "code",
   "execution_count": 7,
   "id": "34c5405c-ba08-498a-a64d-0d108c7dbe16",
   "metadata": {},
   "outputs": [],
   "source": [
    "index = minsearch.Index(\n",
    "    text_fields=[\"question\", \"text\", \"section\"],\n",
    "    keyword_fields=[\"course\"]\n",
    ")"
   ]
  },
  {
   "cell_type": "code",
   "execution_count": 8,
   "id": "a66dd8a2-7fbc-48d3-a1b9-cfcbdce4ed45",
   "metadata": {},
   "outputs": [
    {
     "data": {
      "text/plain": [
       "<minsearch.Index at 0x74268b1993a0>"
      ]
     },
     "execution_count": 8,
     "metadata": {},
     "output_type": "execute_result"
    }
   ],
   "source": [
    "index.fit(documents)"
   ]
  },
  {
   "cell_type": "code",
   "execution_count": 9,
   "id": "15bfbd60-c960-400f-8236-4de2f814890f",
   "metadata": {},
   "outputs": [],
   "source": [
    "from openai import OpenAI\n",
    "client = OpenAI()"
   ]
  },
  {
   "cell_type": "code",
   "execution_count": 10,
   "id": "af1de2ce-312f-453b-91a1-022fc653f0d2",
   "metadata": {},
   "outputs": [],
   "source": [
    "prompt = \"How do I run Kafka?\""
   ]
  },
  {
   "cell_type": "code",
   "execution_count": 11,
   "id": "a9ee48fc-41a7-4ff0-b73d-23966d94205d",
   "metadata": {},
   "outputs": [
    {
     "data": {
      "text/plain": [
       "\"Running Apache Kafka involves several steps, including installing Kafka, configuring it, and starting its components. Here's a basic guide to get Kafka up and running on your local machine:\\n\\n### Prerequisites\\n- Java 8 or higher installed on your system\\n- Zookeeper (comes bundled with Kafka or can be installed separately)\\n- Basic command-line skills\\n\\n---\\n\\n### Step-by-Step Guide\\n\\n#### 1. Download Kafka\\n- Visit the official Kafka downloads page: [https://kafka.apache.org/downloads](https://kafka.apache.org/downloads)\\n- Download the latest binary package (e.g., kafka_2.13-<version>.tgz)\\n\\n#### 2. Extract the Package\\nOpen your terminal and run:\\n```bash\\ntar -xzf kafka_2.13-<version>.tgz\\ncd kafka_2.13-<version>\\n```\\n\\n#### 3. Start Zookeeper\\nKafka depends on Zookeeper. You can start it using the included script:\\n```bash\\n# On Unix/Linux/macOS\\nbin/zookeeper-server-start.sh config/zookeeper.properties\\n\\n# On Windows, use:\\nbin\\\\windows\\\\zookeeper-server-start.bat config\\\\zookeeper.properties\\n```\\n\\n#### 4. Start Kafka Broker\\nAfter Zookeeper is running, start Kafka:\\n```bash\\n# On Unix/Linux/macOS\\nbin/kafka-server-start.sh config/server.properties\\n\\n# On Windows, use:\\nbin\\\\windows\\\\kafka-server-start.bat config\\\\server.properties\\n```\\n\\n#### 5. Create a Topic\\nOnce Kafka is running, create a topic:\\n```bash\\nbin/kafka-topics.sh --create --topic test-topic --bootstrap-server localhost:9092 --partitions 1 --replication-factor 1\\n```\\n\\n#### 6. Produce Messages\\nSend messages to the topic:\\n```bash\\nbin/kafka-console-producer.sh --topic test-topic --bootstrap-server localhost:9092\\n```\\nType messages and press Enter.\\n\\n#### 7. Consume Messages\\nRead messages from the topic:\\n```bash\\nbin/kafka-console-consumer.sh --topic test-topic --bootstrap-server localhost:9092 --from-beginning\\n```\\n\\n---\\n\\n### Additional Tips\\n- Ensure Java is installed and `java -version` works.\\n- You can run Kafka and Zookeeper as background processes or use Docker for easier management.\\n- For production environments, configure Kafka and Zookeeper for persistence and clustering.\\n\\n---\\n\\n### Using Docker (Optional)\\nYou can run Kafka easily with Docker:\\n```bash\\ndocker run -d --name zookeeper -p 2181:2181 zookeeper:3.7\\ndocker run -d --name kafka -p 9092:9092 --link zookeeper:zookeeper \\\\\\n  -e KAFKA_ZOOKEEPER_CONNECT=zookeeper:2181 \\\\\\n  -e KAFKA_ADVERTISED_LISTENERS=PLAINTEXT://localhost:9092 \\\\\\n  -e KAFKA_OFFSETS_TOPIC_REPLICATION_FACTOR=1 \\\\\\n  wurstmeister/kafka\\n```\\n\\n---\\n\\n### Summary\\n- Download and extract Kafka\\n- Start Zookeeper\\n- Start Kafka server\\n- Create topics and produce/consume messages\\n\\nLet me know if you need help with specific configurations or running Kafka in a particular environment!\""
      ]
     },
     "execution_count": 11,
     "metadata": {},
     "output_type": "execute_result"
    }
   ],
   "source": [
    "response = client.chat.completions.create(\n",
    "    model='gpt-4.1-nano',\n",
    "    messages=[{\"role\":\"user\", \"content\": prompt}]\n",
    ")\n",
    "\n",
    "response.choices[0].message.content"
   ]
  },
  {
   "cell_type": "code",
   "execution_count": 12,
   "id": "863e6cf0-d31e-4ae3-8c67-bb49a19ba3f2",
   "metadata": {},
   "outputs": [],
   "source": [
    "def search(query):\n",
    "    boost = {'question': 3.0, 'section': 0.5}\n",
    "\n",
    "    results = index.search(\n",
    "        query=query,\n",
    "        filter_dict={'course': 'data-engineering-zoomcamp'},\n",
    "        boost_dict=boost,\n",
    "        num_results=5\n",
    "    )  \n",
    "    \n",
    "    return results"
   ]
  },
  {
   "cell_type": "code",
   "execution_count": 13,
   "id": "eea44349-8723-4b6b-a358-80e58ab6110f",
   "metadata": {},
   "outputs": [],
   "source": [
    "def build_prompt(query, search_results):\n",
    "    prompt_template = \"\"\"\n",
    "You're a course teaching assistant. Answer the QUESTION based on the CONTEXT from the faq database. \n",
    "Use only the facts from the CONTEXT when answering the QUESTION.\n",
    "\n",
    "\n",
    "QUESTION: {question}\n",
    "\n",
    "CONTEXT:\n",
    "{context}\n",
    "\"\"\".strip()\n",
    "\n",
    "    context = \"\"\n",
    "    \n",
    "    for doc in search_results:\n",
    "        context = context + f\"section: {doc['section']}\\nquestion: {doc['question']}\\nanswer: {doc['text']}\\n\\n\"\n",
    "    \n",
    "    prompt = prompt_template.format(question=query, context=context).strip()\n",
    "    return prompt"
   ]
  },
  {
   "cell_type": "code",
   "execution_count": 14,
   "id": "a90f0edf-70d0-40f9-844b-8e472a71cee2",
   "metadata": {},
   "outputs": [],
   "source": [
    "def llm(prompt):\n",
    "    response = client.chat.completions.create(\n",
    "        model='gpt-4.1-nano',\n",
    "        messages=[{\"role\":\"user\", \"content\": prompt}]\n",
    ")\n",
    "\n",
    "    return response.choices[0].message.content"
   ]
  },
  {
   "cell_type": "code",
   "execution_count": 15,
   "id": "c7151786-75cc-456f-9788-d421f576eb21",
   "metadata": {},
   "outputs": [],
   "source": [
    "query = 'how do i run Kafka?'\n",
    "\n",
    "def rag(query):\n",
    "    search_results = search(query)\n",
    "    prompt = build_prompt(query, search_results)\n",
    "    answer = llm(prompt)\n",
    "    return answer"
   ]
  },
  {
   "cell_type": "code",
   "execution_count": 16,
   "id": "610aa58a-c77b-46a9-9fd6-61eb87707d02",
   "metadata": {},
   "outputs": [
    {
     "data": {
      "text/plain": [
       "'To run Kafka, you should execute the Java command in the project directory:\\njava -cp build/libs/<jar_name>-1.0-SNAPSHOT.jar:out src/main/java/org/example/JsonProducer.java'"
      ]
     },
     "execution_count": 16,
     "metadata": {},
     "output_type": "execute_result"
    }
   ],
   "source": [
    "rag(query)"
   ]
  },
  {
   "cell_type": "code",
   "execution_count": 17,
   "id": "37a505df-60b8-43b7-9627-932af4fc976e",
   "metadata": {},
   "outputs": [
    {
     "data": {
      "text/plain": [
       "'Yes, you can still enroll in the course even after it has started.'"
      ]
     },
     "execution_count": 17,
     "metadata": {},
     "output_type": "execute_result"
    }
   ],
   "source": [
    "rag('the course has already started, can I still enroll?')"
   ]
  },
  {
   "cell_type": "code",
   "execution_count": 18,
   "id": "be34eb82-156f-433d-a483-cbc018b72d25",
   "metadata": {},
   "outputs": [
    {
     "data": {
      "text/plain": [
       "{'text': \"The purpose of this document is to capture frequently asked technical questions\\nThe exact day and hour of the course will be 15th Jan 2024 at 17h00. The course will start with the first  “Office Hours'' live.1\\nSubscribe to course public Google Calendar (it works from Desktop only).\\nRegister before the course starts using this link.\\nJoin the course Telegram channel with announcements.\\nDon’t forget to register in DataTalks.Club's Slack and join the channel.\",\n",
       " 'section': 'General course-related questions',\n",
       " 'question': 'Course - When will the course start?',\n",
       " 'course': 'data-engineering-zoomcamp'}"
      ]
     },
     "execution_count": 18,
     "metadata": {},
     "output_type": "execute_result"
    }
   ],
   "source": [
    "documents[0]"
   ]
  },
  {
   "cell_type": "code",
   "execution_count": 25,
   "id": "ece0d5a4-edfb-47d4-a02e-b123ce42002d",
   "metadata": {},
   "outputs": [],
   "source": [
    "from elasticsearch import Elasticsearch"
   ]
  },
  {
   "cell_type": "code",
   "execution_count": 27,
   "id": "2b8b5f29-4d47-4f98-8e98-1896e2b36b50",
   "metadata": {},
   "outputs": [],
   "source": [
    "es_client = Elasticsearch('http://localhost:9200') "
   ]
  },
  {
   "cell_type": "code",
   "execution_count": 28,
   "id": "2cbba678-2bea-47fe-bacd-99eeb10f3cdf",
   "metadata": {},
   "outputs": [
    {
     "data": {
      "text/plain": [
       "ObjectApiResponse({'acknowledged': True, 'shards_acknowledged': True, 'index': 'course-questions'})"
      ]
     },
     "execution_count": 28,
     "metadata": {},
     "output_type": "execute_result"
    }
   ],
   "source": [
    "index_settings = {\n",
    "    \"settings\": {\n",
    "        \"number_of_shards\": 1,\n",
    "        \"number_of_replicas\": 0\n",
    "    },\n",
    "    \"mappings\": {\n",
    "        \"properties\": {\n",
    "            \"text\": {\"type\": \"text\"},\n",
    "            \"section\": {\"type\": \"text\"},\n",
    "            \"question\": {\"type\": \"text\"},\n",
    "            \"course\": {\"type\": \"keyword\"} \n",
    "        }\n",
    "    }\n",
    "}\n",
    "\n",
    "index_name = \"course-questions\"\n",
    "\n",
    "es_client.indices.create(index=index_name, body=index_settings)"
   ]
  },
  {
   "cell_type": "code",
   "execution_count": 30,
   "id": "0a5e02f6-f10a-4cff-844e-4e61dd5ec64f",
   "metadata": {},
   "outputs": [
    {
     "data": {
      "text/plain": [
       "{'text': \"The purpose of this document is to capture frequently asked technical questions\\nThe exact day and hour of the course will be 15th Jan 2024 at 17h00. The course will start with the first  “Office Hours'' live.1\\nSubscribe to course public Google Calendar (it works from Desktop only).\\nRegister before the course starts using this link.\\nJoin the course Telegram channel with announcements.\\nDon’t forget to register in DataTalks.Club's Slack and join the channel.\",\n",
       " 'section': 'General course-related questions',\n",
       " 'question': 'Course - When will the course start?',\n",
       " 'course': 'data-engineering-zoomcamp'}"
      ]
     },
     "execution_count": 30,
     "metadata": {},
     "output_type": "execute_result"
    }
   ],
   "source": [
    "documents[0]"
   ]
  },
  {
   "cell_type": "code",
   "execution_count": 31,
   "id": "751f08fb-db1d-464d-862f-4f7bdf05f306",
   "metadata": {},
   "outputs": [
    {
     "name": "stderr",
     "output_type": "stream",
     "text": [
      "/usr/local/python/3.12.1/lib/python3.12/site-packages/tqdm/auto.py:21: TqdmWarning: IProgress not found. Please update jupyter and ipywidgets. See https://ipywidgets.readthedocs.io/en/stable/user_install.html\n",
      "  from .autonotebook import tqdm as notebook_tqdm\n"
     ]
    }
   ],
   "source": [
    "from tqdm.auto import tqdm"
   ]
  },
  {
   "cell_type": "code",
   "execution_count": 32,
   "id": "fdad3c2e-5fd5-444e-a4d7-aefbfa00f8ad",
   "metadata": {},
   "outputs": [
    {
     "name": "stderr",
     "output_type": "stream",
     "text": [
      "100%|███████████████████████████████████████████████████████████████████████████████████| 948/948 [00:04<00:00, 194.60it/s]\n"
     ]
    }
   ],
   "source": [
    "for doc in tqdm(documents):\n",
    "    es_client.index(index=index_name, document=doc)"
   ]
  },
  {
   "cell_type": "code",
   "execution_count": 36,
   "id": "796fcf6a-1c1c-468d-b594-5fe205873a73",
   "metadata": {},
   "outputs": [],
   "source": [
    "query = 'I just disovered the course. Can I still join it?'"
   ]
  },
  {
   "cell_type": "code",
   "execution_count": 34,
   "id": "021e846a-e953-4082-ae4c-0083af4fa5ca",
   "metadata": {},
   "outputs": [],
   "source": [
    "def elastic_search(query):\n",
    "    search_query = {\n",
    "        \"size\": 5,\n",
    "        \"query\": {\n",
    "            \"bool\": {\n",
    "                \"must\": {\n",
    "                    \"multi_match\": {\n",
    "                        \"query\": query,\n",
    "                        \"fields\": [\"question^3\", \"text\", \"section\"],\n",
    "                        \"type\": \"best_fields\"\n",
    "                    }\n",
    "                },\n",
    "                \"filter\": {\n",
    "                    \"term\": {\n",
    "                        \"course\": \"data-engineering-zoomcamp\"\n",
    "                    }\n",
    "                }\n",
    "            }\n",
    "        }\n",
    "    }\n",
    "\n",
    "    response = es_client.search(index=index_name, body=search_query)\n",
    "    \n",
    "    result_docs = []\n",
    "    \n",
    "    for hit in response['hits']['hits']:\n",
    "        result_docs.append(hit['_source'])\n",
    "    \n",
    "    return result_docs"
   ]
  },
  {
   "cell_type": "code",
   "execution_count": 37,
   "id": "254412e6-e362-469a-933e-88937c73178c",
   "metadata": {},
   "outputs": [],
   "source": [
    "def rag(query):\n",
    "    search_results = elastic_search(query)\n",
    "    prompt = build_prompt(query, search_results)\n",
    "    answer = llm(prompt)\n",
    "    return answer"
   ]
  },
  {
   "cell_type": "code",
   "execution_count": 38,
   "id": "09569d64-abf8-4b11-aac4-100ffb692ae7",
   "metadata": {},
   "outputs": [
    {
     "data": {
      "text/plain": [
       "'Yes, you can still join the course even after it has started. You are still eligible to submit the homeworks, although there will be deadlines for the final projects.'"
      ]
     },
     "execution_count": 38,
     "metadata": {},
     "output_type": "execute_result"
    }
   ],
   "source": [
    "rag(query)"
   ]
  },
  {
   "cell_type": "code",
   "execution_count": null,
   "id": "9cccf5a8-59e3-42f4-b940-d28cca8c99b2",
   "metadata": {},
   "outputs": [],
   "source": []
  }
 ],
 "metadata": {
  "kernelspec": {
   "display_name": "Python 3 (ipykernel)",
   "language": "python",
   "name": "python3"
  },
  "language_info": {
   "codemirror_mode": {
    "name": "ipython",
    "version": 3
   },
   "file_extension": ".py",
   "mimetype": "text/x-python",
   "name": "python",
   "nbconvert_exporter": "python",
   "pygments_lexer": "ipython3",
   "version": "3.12.1"
  }
 },
 "nbformat": 4,
 "nbformat_minor": 5
}

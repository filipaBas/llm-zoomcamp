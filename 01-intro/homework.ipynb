{
 "cells": [
  {
   "cell_type": "code",
   "execution_count": 1,
   "id": "f032ba99-8bc9-482b-a1fb-b2ca32a9c0a9",
   "metadata": {},
   "outputs": [],
   "source": [
    "import openai "
   ]
  },
  {
   "cell_type": "code",
   "execution_count": 2,
   "id": "6edd3cf2-9892-48c8-aaea-2e5a4596afce",
   "metadata": {},
   "outputs": [],
   "source": [
    "from openai import OpenAI"
   ]
  },
  {
   "cell_type": "code",
   "execution_count": 3,
   "id": "86d437f5-40e2-4fb9-b411-94f242fe2504",
   "metadata": {},
   "outputs": [],
   "source": [
    "client = OpenAI()"
   ]
  },
  {
   "cell_type": "code",
   "execution_count": 12,
   "id": "f75a5b82-32dc-4f52-8c6b-91204bc7497f",
   "metadata": {},
   "outputs": [],
   "source": [
    "response = client.chat.completions.create(\n",
    "    model='gpt-3.5-turbo', \n",
    "    messages=[{\"role\": \"user\", \"content\": \"is it too late to join the course?\"}]\n",
    ")"
   ]
  },
  {
   "cell_type": "code",
   "execution_count": 13,
   "id": "8eea2b98-6729-4b4e-85c0-e4f5db2bd9d3",
   "metadata": {},
   "outputs": [
    {
     "data": {
      "text/plain": [
       "'This would depend on the specific course and its schedule. It is best to contact the course coordinator or administrator to inquire about late enrollment options.'"
      ]
     },
     "execution_count": 13,
     "metadata": {},
     "output_type": "execute_result"
    }
   ],
   "source": [
    "response.choices[0].message.content"
   ]
  },
  {
   "cell_type": "code",
   "execution_count": null,
   "id": "0d570322-16f1-4637-b641-e75e9730d5f3",
   "metadata": {},
   "outputs": [],
   "source": []
  }
 ],
 "metadata": {
  "kernelspec": {
   "display_name": "Python 3 (ipykernel)",
   "language": "python",
   "name": "python3"
  },
  "language_info": {
   "codemirror_mode": {
    "name": "ipython",
    "version": 3
   },
   "file_extension": ".py",
   "mimetype": "text/x-python",
   "name": "python",
   "nbconvert_exporter": "python",
   "pygments_lexer": "ipython3",
   "version": "3.12.1"
  }
 },
 "nbformat": 4,
 "nbformat_minor": 5
}
